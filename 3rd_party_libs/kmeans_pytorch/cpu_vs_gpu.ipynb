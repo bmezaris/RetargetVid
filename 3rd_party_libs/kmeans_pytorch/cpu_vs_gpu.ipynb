{
 "cells": [
  {
   "cell_type": "code",
   "execution_count": 28,
   "metadata": {
    "colab": {
     "base_uri": "https://localhost:8080/",
     "height": 35
    },
    "colab_type": "code",
    "id": "1ddgCM_qEHZa",
    "outputId": "9df5f286-0b1c-40a7-bc07-17a765c861b7"
   },
   "outputs": [
    {
     "name": "stdout",
     "output_type": "stream",
     "text": [
      "Requirement already satisfied: kmeans-pytorch in /usr/local/lib/python3.6/dist-packages (0.1)\n"
     ]
    }
   ],
   "source": [
    "!pip install kmeans-pytorch"
   ]
  },
  {
   "cell_type": "code",
   "execution_count": null,
   "metadata": {
    "colab": {},
    "colab_type": "code",
    "id": "R8_IiKZZEU9i"
   },
   "outputs": [],
   "source": [
    "import torch\n",
    "import numpy as np\n",
    "import matplotlib.pyplot as plt\n",
    "from time import time\n",
    "from kmeans_pytorch import kmeans, kmeans_predict"
   ]
  },
  {
   "cell_type": "code",
   "execution_count": null,
   "metadata": {
    "colab": {},
    "colab_type": "code",
    "id": "iyoljrh1FCxJ"
   },
   "outputs": [],
   "source": [
    "# set random seed\n",
    "np.random.seed(123)"
   ]
  },
  {
   "cell_type": "code",
   "execution_count": null,
   "metadata": {
    "colab": {},
    "colab_type": "code",
    "id": "tcnoTA16FHbJ"
   },
   "outputs": [],
   "source": [
    "# dimensions, num clusters\n",
    "dims, num_clusters = 2, 3\n",
    "\n",
    "# data sizes\n",
    "data_sizes = [100000, 1000000, 5000000, 10000000]"
   ]
  },
  {
   "cell_type": "code",
   "execution_count": 6,
   "metadata": {
    "colab": {
     "base_uri": "https://localhost:8080/",
     "height": 1000
    },
    "colab_type": "code",
    "id": "Ar-lcW3OFTXI",
    "outputId": "056052bc-899e-45d9-f0f4-243eaac69764"
   },
   "outputs": [
    {
     "name": "stdout",
     "output_type": "stream",
     "text": [
      "\n",
      "data size: 100000\n",
      "running k-means on cuda:0..\n"
     ]
    },
    {
     "name": "stderr",
     "output_type": "stream",
     "text": [
      "[running kmeans]: 6it [00:00, 19.37it/s, center_shift=0.000058, iteration=6, tol=0.000100]\n",
      "[running kmeans]: 3it [00:00, 25.17it/s, center_shift=0.001187, iteration=4, tol=0.000100]"
     ]
    },
    {
     "name": "stdout",
     "output_type": "stream",
     "text": [
      "gpu time: 9.147990465164185\n",
      "running k-means on cpu..\n"
     ]
    },
    {
     "name": "stderr",
     "output_type": "stream",
     "text": [
      "[running kmeans]: 7it [00:00, 24.08it/s, center_shift=0.000048, iteration=7, tol=0.000100]\n",
      "[running kmeans]: 0it [00:00, ?it/s]"
     ]
    },
    {
     "name": "stdout",
     "output_type": "stream",
     "text": [
      "cpu time: 0.2962355613708496\n",
      "\n",
      "data size: 1000000\n",
      "running k-means on cuda:0..\n"
     ]
    },
    {
     "name": "stderr",
     "output_type": "stream",
     "text": [
      "[running kmeans]: 7it [00:02,  2.70it/s, center_shift=0.000070, iteration=7, tol=0.000100]\n",
      "[running kmeans]: 0it [00:00, ?it/s]"
     ]
    },
    {
     "name": "stdout",
     "output_type": "stream",
     "text": [
      "gpu time: 2.6448638439178467\n",
      "running k-means on cpu..\n"
     ]
    },
    {
     "name": "stderr",
     "output_type": "stream",
     "text": [
      "[running kmeans]: 6it [00:02,  2.66it/s, center_shift=0.000054, iteration=6, tol=0.000100]\n"
     ]
    },
    {
     "name": "stdout",
     "output_type": "stream",
     "text": [
      "cpu time: 2.287574052810669\n",
      "\n",
      "data size: 5000000\n",
      "running k-means on cuda:0..\n"
     ]
    },
    {
     "name": "stderr",
     "output_type": "stream",
     "text": [
      "[running kmeans]: 5it [00:09,  1.82s/it, center_shift=0.000037, iteration=5, tol=0.000100]\n",
      "[running kmeans]: 0it [00:00, ?it/s]"
     ]
    },
    {
     "name": "stdout",
     "output_type": "stream",
     "text": [
      "gpu time: 9.346906185150146\n",
      "running k-means on cpu..\n"
     ]
    },
    {
     "name": "stderr",
     "output_type": "stream",
     "text": [
      "[running kmeans]: 6it [00:10,  1.79s/it, center_shift=0.000051, iteration=6, tol=0.000100]"
     ]
    },
    {
     "name": "stdout",
     "output_type": "stream",
     "text": [
      "cpu time: 10.929628849029541\n",
      "\n",
      "data size: 10000000\n",
      "running k-means on cuda:0..\n"
     ]
    },
    {
     "name": "stderr",
     "output_type": "stream",
     "text": [
      "\n",
      "[running kmeans]: 0it [00:00, ?it/s]\u001b[A\n",
      "[running kmeans]: 0it [00:03, ?it/s, center_shift=0.108101, iteration=1, tol=0.000100]\u001b[A\n",
      "[running kmeans]: 1it [00:03,  3.58s/it, center_shift=0.108101, iteration=1, tol=0.000100]\u001b[A\n",
      "[running kmeans]: 1it [00:07,  3.58s/it, center_shift=0.007211, iteration=2, tol=0.000100]\u001b[A\n",
      "[running kmeans]: 2it [00:07,  3.58s/it, center_shift=0.007211, iteration=2, tol=0.000100]\u001b[A\n",
      "[running kmeans]: 2it [00:10,  3.58s/it, center_shift=0.001613, iteration=3, tol=0.000100]\u001b[A\n",
      "[running kmeans]: 3it [00:10,  3.58s/it, center_shift=0.001613, iteration=3, tol=0.000100]\u001b[A\n",
      "[running kmeans]: 3it [00:14,  3.58s/it, center_shift=0.000406, iteration=4, tol=0.000100]\u001b[A\n",
      "[running kmeans]: 4it [00:14,  3.58s/it, center_shift=0.000406, iteration=4, tol=0.000100]\u001b[A\n",
      "[running kmeans]: 4it [00:17,  3.58s/it, center_shift=0.000130, iteration=5, tol=0.000100]\u001b[A\n",
      "[running kmeans]: 5it [00:17,  3.57s/it, center_shift=0.000130, iteration=5, tol=0.000100]\u001b[A\n",
      "[running kmeans]: 5it [00:21,  3.57s/it, center_shift=0.000044, iteration=6, tol=0.000100]\u001b[A\n",
      "[running kmeans]: 6it [00:21,  3.56s/it, center_shift=0.000044, iteration=6, tol=0.000100]\u001b[A"
     ]
    },
    {
     "name": "stdout",
     "output_type": "stream",
     "text": [
      "gpu time: 21.879725694656372\n",
      "running k-means on cpu..\n"
     ]
    },
    {
     "name": "stderr",
     "output_type": "stream",
     "text": [
      "\n",
      "\n",
      "[running kmeans]: 0it [00:00, ?it/s]\u001b[A\u001b[A\n",
      "\n",
      "[running kmeans]: 0it [00:03, ?it/s, center_shift=0.170225, iteration=1, tol=0.000100]\u001b[A\u001b[A\n",
      "\n",
      "[running kmeans]: 1it [00:03,  3.54s/it, center_shift=0.170225, iteration=1, tol=0.000100]\u001b[A\u001b[A\n",
      "\n",
      "[running kmeans]: 1it [00:07,  3.54s/it, center_shift=0.013261, iteration=2, tol=0.000100]\u001b[A\u001b[A\n",
      "\n",
      "[running kmeans]: 2it [00:07,  3.57s/it, center_shift=0.013261, iteration=2, tol=0.000100]\u001b[A\u001b[A\n",
      "\n",
      "[running kmeans]: 2it [00:10,  3.57s/it, center_shift=0.003844, iteration=3, tol=0.000100]\u001b[A\u001b[A\n",
      "\n",
      "[running kmeans]: 3it [00:10,  3.59s/it, center_shift=0.003844, iteration=3, tol=0.000100]\u001b[A\u001b[A\n",
      "\n",
      "[running kmeans]: 3it [00:14,  3.59s/it, center_shift=0.001250, iteration=4, tol=0.000100]\u001b[A\u001b[A\n",
      "\n",
      "[running kmeans]: 4it [00:14,  3.59s/it, center_shift=0.001250, iteration=4, tol=0.000100]\u001b[A\u001b[A\n",
      "\n",
      "[running kmeans]: 4it [00:18,  3.59s/it, center_shift=0.000416, iteration=5, tol=0.000100]\u001b[A\u001b[A\n",
      "\n",
      "[running kmeans]: 5it [00:18,  3.60s/it, center_shift=0.000416, iteration=5, tol=0.000100]\u001b[A\u001b[A\n",
      "\n",
      "[running kmeans]: 5it [00:21,  3.60s/it, center_shift=0.000139, iteration=6, tol=0.000100]\u001b[A\u001b[A\n",
      "\n",
      "[running kmeans]: 6it [00:21,  3.61s/it, center_shift=0.000139, iteration=6, tol=0.000100]\u001b[A\u001b[A\n",
      "\n",
      "[running kmeans]: 6it [00:25,  3.61s/it, center_shift=0.000047, iteration=7, tol=0.000100]\u001b[A\u001b[A\n",
      "\n",
      "[running kmeans]: 7it [00:25,  3.63s/it, center_shift=0.000047, iteration=7, tol=0.000100]\u001b[A\u001b[A"
     ]
    },
    {
     "name": "stdout",
     "output_type": "stream",
     "text": [
      "cpu time: 25.7757887840271\n"
     ]
    }
   ],
   "source": [
    "gpu_times = []\n",
    "cpu_times = []\n",
    "\n",
    "for data_size in data_sizes:\n",
    "    print(f'\\ndata size: {data_size}')\n",
    "\n",
    "    # data\n",
    "    x = np.random.randn(data_size, dims) / 6\n",
    "    x = torch.from_numpy(x)\n",
    "\n",
    "    # gpu\n",
    "    start_gpu = time()\n",
    "    kmeans_gpu = kmeans(X=x, num_clusters=num_clusters, device=torch.device('cuda:0'))\n",
    "    gpu_time = time() - start_gpu\n",
    "    gpu_times.append(gpu_time)\n",
    "    print(f'gpu time: {gpu_time}')\n",
    "    \n",
    "    # cpu\n",
    "    start_cpu = time()\n",
    "    kmeans_cpu = kmeans(X=x, num_clusters=num_clusters, device=torch.device('cpu'))\n",
    "    cpu_time = time() - start_cpu\n",
    "    cpu_times.append(cpu_time)\n",
    "    print(f'cpu time: {cpu_time}')"
   ]
  },
  {
   "cell_type": "code",
   "execution_count": 29,
   "metadata": {
    "colab": {
     "base_uri": "https://localhost:8080/",
     "height": 484
    },
    "colab_type": "code",
    "id": "5V0vxpaUEnFd",
    "outputId": "27b8d6ed-07b3-4c8f-af8b-19d24f542378"
   },
   "outputs": [
    {
     "data": {
      "image/png": "[encoded data removed]",
      "text/plain": [
       "<Figure size 960x480 with 1 Axes>"
      ]
     },
     "metadata": {
      "tags": []
     },
     "output_type": "display_data"
    }
   ],
   "source": [
    "# plot\n",
    "plt.figure(figsize=(6, 3), dpi=160)\n",
    "plt.plot(data_sizes, gpu_times, marker='o', label='gpu', color='xkcd:vermillion')\n",
    "plt.plot(data_sizes, cpu_times, marker='o', label='cpu', color='xkcd:neon blue')\n",
    "plt.xticks(data_sizes)\n",
    "plt.legend(fontsize=12)\n",
    "plt.grid(alpha=0.2)\n",
    "plt.xlabel('data size', fontsize=14)\n",
    "plt.ylabel('time (s)', fontsize=14)\n",
    "plt.show()"
   ]
  },
  {
   "cell_type": "code",
   "execution_count": null,
   "metadata": {
    "colab": {},
    "colab_type": "code",
    "id": "BHkQ-zw9EnsN"
   },
   "outputs": [],
   "source": []
  }
 ],
 "metadata": {
  "accelerator": "GPU",
  "colab": {
   "collapsed_sections": [],
   "name": "cpu_vs_gpu.ipynb",
   "provenance": []
  },
  "kernelspec": {
   "display_name": "Python 3",
   "language": "python",
   "name": "python3"
  },
  "language_info": {
   "codemirror_mode": {
    "name": "ipython",
    "version": 3
   },
   "file_extension": ".py",
   "mimetype": "text/x-python",
   "name": "python",
   "nbconvert_exporter": "python",
   "pygments_lexer": "ipython3",
   "version": "3.7.6"
  }
 },
 "nbformat": 4,
 "nbformat_minor": 4
}
